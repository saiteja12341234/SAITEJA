{
  "nbformat": 4,
  "nbformat_minor": 0,
  "metadata": {
    "kernelspec": {
      "display_name": "Python 3",
      "language": "python",
      "name": "python3"
    },
    "language_info": {
      "codemirror_mode": {
        "name": "ipython",
        "version": 3
      },
      "file_extension": ".py",
      "mimetype": "text/x-python",
      "name": "python",
      "nbconvert_exporter": "python",
      "pygments_lexer": "ipython3",
      "version": "3.8.3"
    },
    "colab": {
      "name": "python-1.ipynb",
      "provenance": [],
      "include_colab_link": true
    }
  },
  "cells": [
    {
      "cell_type": "markdown",
      "metadata": {
        "id": "view-in-github",
        "colab_type": "text"
      },
      "source": [
        "<a href=\"https://colab.research.google.com/github/saiteja12341234/SAITEJA/blob/main/python_1.ipynb\" target=\"_parent\"><img src=\"https://colab.research.google.com/assets/colab-badge.svg\" alt=\"Open In Colab\"/></a>"
      ]
    },
    {
      "cell_type": "code",
      "metadata": {
        "colab": {
          "base_uri": "https://localhost:8080/"
        },
        "id": "MYgZ274T7JES",
        "outputId": "3f68e881-413c-4523-8fbd-45dd91ae2e24"
      },
      "source": [
        "print(\"i am learning python\")"
      ],
      "execution_count": 1,
      "outputs": [
        {
          "output_type": "stream",
          "text": [
            "i am learning python\n"
          ],
          "name": "stdout"
        }
      ]
    },
    {
      "cell_type": "code",
      "metadata": {
        "colab": {
          "base_uri": "https://localhost:8080/"
        },
        "id": "m3I7qkUZ7JEU",
        "outputId": "3ad9c88d-a522-4f87-e2de-99a22ad03284"
      },
      "source": [
        "5+6"
      ],
      "execution_count": 2,
      "outputs": [
        {
          "output_type": "execute_result",
          "data": {
            "text/plain": [
              "11"
            ]
          },
          "metadata": {
            "tags": []
          },
          "execution_count": 2
        }
      ]
    },
    {
      "cell_type": "code",
      "metadata": {
        "colab": {
          "base_uri": "https://localhost:8080/"
        },
        "id": "pognWye97JEV",
        "outputId": "81d81a6b-4dba-42ec-c7be-1701ec79ffc6"
      },
      "source": [
        "#keywords cannot use name,function name,identifiers and it is a case sensitive\n",
        "import keyword \n",
        "print(keyword.kwlist)\n",
        "print(\"the number of keywords:\", len(keyword.kwlist))"
      ],
      "execution_count": 3,
      "outputs": [
        {
          "output_type": "stream",
          "text": [
            "['False', 'None', 'True', 'and', 'as', 'assert', 'async', 'await', 'break', 'class', 'continue', 'def', 'del', 'elif', 'else', 'except', 'finally', 'for', 'from', 'global', 'if', 'import', 'in', 'is', 'lambda', 'nonlocal', 'not', 'or', 'pass', 'raise', 'return', 'try', 'while', 'with', 'yield']\n",
            "the number of keywords: 35\n"
          ],
          "name": "stdout"
        }
      ]
    },
    {
      "cell_type": "code",
      "metadata": {
        "id": "5uax1OPW7JEV"
      },
      "source": [
        "#Identifiers are the name given to class,functions,variables etc\n",
        "#Rules are \n",
        "#1.we can use a conbination of lower case,upper case,digits and underscore.\n",
        "#2.It cannot start with a digit eg:1variable is not valid but variable1 is valid.\n",
        "#3.keywords cannot be used as identifiers\n",
        "#4.cannot use special characters\n",
        "abc123 = 2 #rule1\n",
        "abc123\n",
        "print(abc123"
      ],
      "execution_count": null,
      "outputs": []
    },
    {
      "cell_type": "code",
      "metadata": {
        "id": "z0z3kTb-7JEW"
      },
      "source": [
        "123abc = 2 #rule2 violation"
      ],
      "execution_count": null,
      "outputs": []
    },
    {
      "cell_type": "code",
      "metadata": {
        "id": "WmgGMen97JEW"
      },
      "source": [
        "is = 5 #rule 3 violation"
      ],
      "execution_count": null,
      "outputs": []
    },
    {
      "cell_type": "code",
      "metadata": {
        "id": "qn3NWumA7JEW"
      },
      "source": [
        "ab@ = 5 #rule4 violation"
      ],
      "execution_count": null,
      "outputs": []
    },
    {
      "cell_type": "code",
      "metadata": {
        "id": "-39iULpA7JEX"
      },
      "source": [
        "a = 10\n",
        "type(a)"
      ],
      "execution_count": null,
      "outputs": []
    },
    {
      "cell_type": "code",
      "metadata": {
        "id": "FH16d1af7JEX"
      },
      "source": [
        "b = 1.5\n",
        "type(b)"
      ],
      "execution_count": null,
      "outputs": []
    },
    {
      "cell_type": "code",
      "metadata": {
        "id": "e7hWsZZl7JEY"
      },
      "source": [
        "c  = \"python\"\n",
        "type(c)"
      ],
      "execution_count": null,
      "outputs": []
    },
    {
      "cell_type": "code",
      "metadata": {
        "id": "-AKOvHqm7JEY"
      },
      "source": [
        "x = y = 5 #Multiple Assignments with same value\n",
        "#x\n",
        "y"
      ],
      "execution_count": null,
      "outputs": []
    },
    {
      "cell_type": "code",
      "metadata": {
        "id": "wNtHPy1p7JEY"
      },
      "source": [
        "a,b,c = 1,2,3\n",
        "b"
      ],
      "execution_count": null,
      "outputs": []
    },
    {
      "cell_type": "code",
      "metadata": {
        "id": "LZ_Po-Q-7JEZ"
      },
      "source": [
        "#a = b = c = 10 #same value\n",
        "a,b,c = 10,2,3 #Different values\n",
        "b"
      ],
      "execution_count": null,
      "outputs": []
    },
    {
      "cell_type": "code",
      "metadata": {
        "id": "irVBb0s87JEZ"
      },
      "source": [
        "a,b = 1,2 \n",
        "(a,b) = (b,a) #swap\n",
        "a"
      ],
      "execution_count": null,
      "outputs": []
    },
    {
      "cell_type": "code",
      "metadata": {
        "id": "VcSV1a_w7JEZ"
      },
      "source": [
        "#Statements\n",
        "a = 1 #single line atatement\n",
        "print(a)"
      ],
      "execution_count": null,
      "outputs": []
    },
    {
      "cell_type": "code",
      "metadata": {
        "id": "GN_-_jwK7JEa"
      },
      "source": [
        "b = 2 + 3 + 4 + \\\n",
        "    5 + 6 + 7\n",
        "print(b) #multiple statements using \\ which continues in line"
      ],
      "execution_count": null,
      "outputs": []
    },
    {
      "cell_type": "code",
      "metadata": {
        "id": "A5nL0fqp7JEa"
      },
      "source": [
        "c = (2 + 6 +\n",
        "    4 + 10)\n",
        "print(c)"
      ],
      "execution_count": null,
      "outputs": []
    },
    {
      "cell_type": "markdown",
      "metadata": {
        "id": "yYbCoh3K7JEa"
      },
      "source": [
        "# Operators"
      ]
    },
    {
      "cell_type": "code",
      "metadata": {
        "id": "MKMnL2Ji7JEb"
      },
      "source": [
        "#Arithmetic\n",
        "x , y = 15, 2\n",
        "print(x + y) #addition\n",
        "print(x - y) #subtraction\n",
        "print(x * y) #Multiplication\n",
        "print(x /  y)   #division\n",
        "print(x %  y) #Modulo division which gives reminder as result \n",
        "print(x // y)  #Floor division nearest value which is lessthan result\n",
        "print(x ** y)  #exponent or power"
      ],
      "execution_count": null,
      "outputs": []
    },
    {
      "cell_type": "code",
      "metadata": {
        "id": "pPCqxSko7JEb"
      },
      "source": [
        "#Comparision operators\n",
        "x , y = 15, 10\n",
        "print(x > y)\n",
        "print(x < y)\n",
        "print(x == y)\n",
        "print(x != y)\n",
        "print(x >= y)\n",
        "print(x <= y)"
      ],
      "execution_count": null,
      "outputs": []
    },
    {
      "cell_type": "code",
      "metadata": {
        "id": "vvtqof_e7JEb"
      },
      "source": [
        "#logical operators\n",
        "x , y = True,False\n",
        "print(not y)\n",
        "print(x and y) # &&\n",
        "print(x or y)  # ||"
      ],
      "execution_count": null,
      "outputs": []
    },
    {
      "cell_type": "code",
      "metadata": {
        "id": "I0Iu76m67JEc"
      },
      "source": [
        "#Bitwise operators\n",
        "x , y = 2, 10\n",
        "print(x & y)\n",
        "print(x | y)\n",
        "print(x ^ y)\n",
        "print(~ x)\n",
        "print(x >> y)\n",
        "print(x << y)"
      ],
      "execution_count": null,
      "outputs": []
    },
    {
      "cell_type": "code",
      "metadata": {
        "id": "JpKsMBpL7JEc"
      },
      "source": [
        "x = 6\n",
        "y = ~x\n",
        "y"
      ],
      "execution_count": null,
      "outputs": []
    },
    {
      "cell_type": "code",
      "metadata": {
        "id": "gZrgFp_b7JEc"
      },
      "source": [
        "#Asssignment operators\n",
        "a = 10\n",
        "#a += 10 # a = a+10\n",
        "#print(a) \n",
        "#a -= 10\n",
        "#a *= 10\n",
        "#a /= 10\n",
        "#a %= 10\n",
        "a //= 6\n",
        "a"
      ],
      "execution_count": null,
      "outputs": []
    },
    {
      "cell_type": "code",
      "metadata": {
        "id": "C_VTTS_R7JEd"
      },
      "source": [
        "#special operators \n",
        "#Identity operators is and isnot\n",
        "a , b = 5,5\n",
        "print(a is b)  #it is only true for variables(values) and strings but not list"
      ],
      "execution_count": null,
      "outputs": []
    },
    {
      "cell_type": "code",
      "metadata": {
        "id": "VmhrEPX37JEd"
      },
      "source": [
        "a=10\n",
        "b=15.2\n",
        "c=\"python\"\n",
        "d = 5+4j\n",
        "type(a),type(b),type(c),type(d)"
      ],
      "execution_count": null,
      "outputs": []
    },
    {
      "cell_type": "code",
      "metadata": {
        "id": "ZNCb-bD07JEd"
      },
      "source": [
        "x = 10\n",
        "x = 15\n",
        "#print(id(x)),print(id(y))\n",
        "x"
      ],
      "execution_count": null,
      "outputs": []
    },
    {
      "cell_type": "code",
      "metadata": {
        "id": "vTgrEU3r7JEd"
      },
      "source": [
        "y = 10.5\n",
        "z = int(y)\n",
        "z"
      ],
      "execution_count": null,
      "outputs": []
    },
    {
      "cell_type": "markdown",
      "metadata": {
        "id": "qYEtkFzi7JEe"
      },
      "source": [
        "# If statement"
      ]
    },
    {
      "cell_type": "code",
      "metadata": {
        "id": "FBgK0sUQ7JEe"
      },
      "source": [
        "x = int(input(\"enter the value of x:\"))\n",
        "if x==15:\n",
        "    print(\"equal\")"
      ],
      "execution_count": null,
      "outputs": []
    },
    {
      "cell_type": "markdown",
      "metadata": {
        "id": "5obNrwR97JEe"
      },
      "source": [
        "# if-else"
      ]
    },
    {
      "cell_type": "code",
      "metadata": {
        "id": "W3nJhSN27JEe"
      },
      "source": [
        "num=int(input(\"enter the vlue\"))\n",
        "if num > 5:\n",
        "    print(\"positive number\")\n",
        "else:\n",
        "    print(\"Negative number\")\n"
      ],
      "execution_count": null,
      "outputs": []
    },
    {
      "cell_type": "markdown",
      "metadata": {
        "id": "8p9DIBLN7JEf"
      },
      "source": [
        "# if-elif-else"
      ]
    },
    {
      "cell_type": "code",
      "metadata": {
        "id": "wkOi9Kpb7JEf"
      },
      "source": [
        "num = int(input(\"Enter the value of x:\"))\n",
        "if num>10:\n",
        "    print(\"Positive\")\n",
        "elif num==10:\n",
        "    print(\"equal\")\n",
        "else:\n",
        "    print(\"Negative\")"
      ],
      "execution_count": null,
      "outputs": []
    },
    {
      "cell_type": "code",
      "metadata": {
        "id": "PrL1p6jt7JEf"
      },
      "source": [
        "#Nested if stmts\n",
        "num = 9\n",
        "if num >= 10:\n",
        "    if num==10:\n",
        "        print(\"Equal\")\n",
        "    else:\n",
        "        print(\"Positive\")\n",
        "else:\n",
        "    print(\"Negative\")"
      ],
      "execution_count": null,
      "outputs": []
    },
    {
      "cell_type": "code",
      "metadata": {
        "id": "pqat0T-07JEf"
      },
      "source": [
        "#Largest numbers among 3\n",
        "a,b,c=10,20,15\n",
        "if (a>b) and (a>c):\n",
        "    print(\"Largest value is a\")\n",
        "elif (b>a) and (b>c):\n",
        "    print(\"Largest number is b\")\n",
        "else:\n",
        "    print(\"Largest number is c\")\n"
      ],
      "execution_count": null,
      "outputs": []
    },
    {
      "cell_type": "code",
      "metadata": {
        "id": "Bs3hLeuc7JEg"
      },
      "source": [
        "#Largest numbers among 3\n",
        "a,b,c=10,20,15\n",
        "if (a>=b) and (a>=c):\n",
        "    Largest=a\n",
        "elif (b>=a) and (b>=c):\n",
        "    Largest=b\n",
        "else:\n",
        "    Largest=c\n",
        "print(\"Largest number in a,b,c is {}\".format(Largest))"
      ],
      "execution_count": null,
      "outputs": []
    },
    {
      "cell_type": "code",
      "metadata": {
        "id": "t12-20f37JEg"
      },
      "source": [
        "#Nested if\n",
        "x = 40\n",
        "if x >= 40:\n",
        "    print(\"x is greater than or equal to:\",x)\n",
        "    if x < 100:\n",
        "        print(\"x is lessthan 100\",x)\n",
        "print(\"completed\")"
      ],
      "execution_count": null,
      "outputs": []
    },
    {
      "cell_type": "markdown",
      "metadata": {
        "id": "LHLaXItR7JEg"
      },
      "source": [
        "# for loop"
      ]
    },
    {
      "cell_type": "code",
      "metadata": {
        "id": "ePg2wwqs7JEg"
      },
      "source": [
        "#Python comments # or '''content ''' or \"\"\"content\"\"\".\n",
        "#indantation\n",
        "#range()\n",
        "for i in range(4):\n",
        "    print(i)"
      ],
      "execution_count": null,
      "outputs": []
    },
    {
      "cell_type": "code",
      "metadata": {
        "id": "6tGMIhkg7JEh"
      },
      "source": [
        "#range(start,end,step size)\n",
        "for i in range(0,10,2):\n",
        "    print(i)"
      ],
      "execution_count": null,
      "outputs": []
    },
    {
      "cell_type": "code",
      "metadata": {
        "id": "ltjv0KfK7JEh"
      },
      "source": [
        "for i in range(0,10,1):\n",
        "    print(i)"
      ],
      "execution_count": null,
      "outputs": []
    },
    {
      "cell_type": "code",
      "metadata": {
        "id": "n7CCl0MM7JEh"
      },
      "source": [
        "#nested\n",
        "for i in range(5):\n",
        "    print(i)\n",
        "    if i > 2:\n",
        "        print(\"the values greater than 2\",i)\n",
        "    print(\"completed i\",i)\n",
        "print(\"completed\")"
      ],
      "execution_count": null,
      "outputs": []
    },
    {
      "cell_type": "markdown",
      "metadata": {
        "id": "yYhrNtAe7JEh"
      },
      "source": [
        "# while loop"
      ]
    },
    {
      "cell_type": "code",
      "metadata": {
        "id": "tDt5TN8J7JEh"
      },
      "source": [
        "i = 1\n",
        "while i <= 3:\n",
        "    print(\"python\")\n",
        "    i += 1 #i= i+1\n",
        "print(\"completed\")"
      ],
      "execution_count": null,
      "outputs": []
    },
    {
      "cell_type": "code",
      "metadata": {
        "id": "VXRBYV5I7JEi"
      },
      "source": [
        "i = 5\n",
        "while i >= 4:\n",
        "    print(\"python\")\n",
        "    i -= 1\n",
        "print(\"completed\")"
      ],
      "execution_count": null,
      "outputs": []
    },
    {
      "cell_type": "markdown",
      "metadata": {
        "id": "s8GMh4yJ7JEi"
      },
      "source": [
        "# break,continue,pass "
      ]
    },
    {
      "cell_type": "code",
      "metadata": {
        "id": "bZVWClZN7JEi"
      },
      "source": [
        "#Break: Terminates from loop\n",
        "for i in range(5):\n",
        "    if i == 3:\n",
        "        break\n",
        "    print(i)"
      ],
      "execution_count": null,
      "outputs": []
    },
    {
      "cell_type": "code",
      "metadata": {
        "id": "PHZtcD9D7JEi"
      },
      "source": [
        "#continue: It will skip that current iteration in execution\n",
        "for i in range(5):\n",
        "    if i == 3:\n",
        "        continue\n",
        "    print(i)"
      ],
      "execution_count": null,
      "outputs": []
    },
    {
      "cell_type": "code",
      "metadata": {
        "scrolled": true,
        "id": "819e88Lm7JEi"
      },
      "source": [
        "#Pass\n",
        "for i in range(5):\n",
        "    if i ==3:\n",
        "        pass\n",
        "    print(i)"
      ],
      "execution_count": null,
      "outputs": []
    },
    {
      "cell_type": "markdown",
      "metadata": {
        "id": "cp2iMYfS7JEj"
      },
      "source": [
        "# Strings"
      ]
    },
    {
      "cell_type": "code",
      "metadata": {
        "id": "DypK7Cdp7JEj"
      },
      "source": [
        "#Sequences in python\n",
        "#String\n",
        "s  = 'Python'\n",
        "s1 = \"Python\"\n",
        "type(s1)"
      ],
      "execution_count": null,
      "outputs": []
    },
    {
      "cell_type": "code",
      "metadata": {
        "id": "iuiQEr-27JEj"
      },
      "source": [
        "#Concatenation\n",
        "a  =\"This is\"\n",
        "b = \"Python Class\"\n",
        "a +\" \"+ b"
      ],
      "execution_count": null,
      "outputs": []
    },
    {
      "cell_type": "code",
      "metadata": {
        "id": "K-nxFKvB7JEj"
      },
      "source": [
        "#clear the content \n",
        "s =  \" \"\n",
        "s"
      ],
      "execution_count": null,
      "outputs": []
    },
    {
      "cell_type": "code",
      "metadata": {
        "id": "tnZp6w5W7JEj"
      },
      "source": [
        "#Remove string from memory\n",
        "del s"
      ],
      "execution_count": null,
      "outputs": []
    },
    {
      "cell_type": "code",
      "metadata": {
        "id": "V2O4kJQ37JEk"
      },
      "source": [
        "s"
      ],
      "execution_count": null,
      "outputs": []
    },
    {
      "cell_type": "code",
      "metadata": {
        "id": "h85_pyu37JEk"
      },
      "source": [
        "#Access the content of string\n",
        "s = \"we are learning python\"\n",
        "s[1]"
      ],
      "execution_count": null,
      "outputs": []
    },
    {
      "cell_type": "code",
      "metadata": {
        "id": "IPQOXLOF7JEk"
      },
      "source": [
        "s[7:]"
      ],
      "execution_count": null,
      "outputs": []
    },
    {
      "cell_type": "code",
      "metadata": {
        "id": "cqkSPiIN7JEk"
      },
      "source": [
        "s[:7]"
      ],
      "execution_count": null,
      "outputs": []
    },
    {
      "cell_type": "code",
      "metadata": {
        "id": "CpeHzPXj7JEk"
      },
      "source": [
        "s[7:15]"
      ],
      "execution_count": null,
      "outputs": []
    },
    {
      "cell_type": "code",
      "metadata": {
        "id": "ObjgOlsW7JEl"
      },
      "source": [
        "s[16:]"
      ],
      "execution_count": null,
      "outputs": []
    },
    {
      "cell_type": "code",
      "metadata": {
        "id": "u1_dNROk7JEl"
      },
      "source": [
        "s[16:22]"
      ],
      "execution_count": null,
      "outputs": []
    },
    {
      "cell_type": "code",
      "metadata": {
        "id": "5YxpD5qM7JEl"
      },
      "source": [
        "a  = \"name\"\n",
        "a[3]"
      ],
      "execution_count": null,
      "outputs": []
    },
    {
      "cell_type": "code",
      "metadata": {
        "id": "E4o4Ip7w7JEm"
      },
      "source": [
        "#Back indexing\n",
        "a[-1]"
      ],
      "execution_count": null,
      "outputs": []
    },
    {
      "cell_type": "code",
      "metadata": {
        "id": "mnXUJbeL7JEm"
      },
      "source": [
        "len(a),len(s) #Length od string"
      ],
      "execution_count": null,
      "outputs": []
    },
    {
      "cell_type": "code",
      "metadata": {
        "id": "xUCQhYjP7JEm"
      },
      "source": [
        "s"
      ],
      "execution_count": null,
      "outputs": []
    },
    {
      "cell_type": "code",
      "metadata": {
        "id": "CU5DZBPH7JEm"
      },
      "source": [
        "max(s)"
      ],
      "execution_count": null,
      "outputs": []
    },
    {
      "cell_type": "code",
      "metadata": {
        "id": "zq37xPWT7JEm"
      },
      "source": [
        "min(s)"
      ],
      "execution_count": null,
      "outputs": []
    },
    {
      "cell_type": "code",
      "metadata": {
        "id": "2HH2KW1r7JEn"
      },
      "source": [
        "a"
      ],
      "execution_count": null,
      "outputs": []
    },
    {
      "cell_type": "code",
      "metadata": {
        "id": "DCskZFIE7JEn"
      },
      "source": [
        "min(a)"
      ],
      "execution_count": null,
      "outputs": []
    },
    {
      "cell_type": "code",
      "metadata": {
        "id": "Zt3qugjh7JEn"
      },
      "source": [
        "max(a)"
      ],
      "execution_count": null,
      "outputs": []
    },
    {
      "cell_type": "code",
      "metadata": {
        "id": "Kfu3vUAi7JEn"
      },
      "source": [
        "a"
      ],
      "execution_count": null,
      "outputs": []
    },
    {
      "cell_type": "code",
      "metadata": {
        "id": "B6Tj1Ssq7JEn"
      },
      "source": [
        "a.capitalize()"
      ],
      "execution_count": null,
      "outputs": []
    },
    {
      "cell_type": "code",
      "metadata": {
        "id": "7k-Yn05h7JEo"
      },
      "source": [
        "b = a.upper()\n",
        "b"
      ],
      "execution_count": null,
      "outputs": []
    },
    {
      "cell_type": "code",
      "metadata": {
        "id": "Pc4laRGz7JEo"
      },
      "source": [
        "b.lower()"
      ],
      "execution_count": null,
      "outputs": []
    },
    {
      "cell_type": "code",
      "metadata": {
        "id": "_fuTnmP27JEp"
      },
      "source": [
        "a.center(50)"
      ],
      "execution_count": null,
      "outputs": []
    },
    {
      "cell_type": "code",
      "metadata": {
        "id": "_apMDAps7JEp"
      },
      "source": [
        "a = \"name122\""
      ],
      "execution_count": null,
      "outputs": []
    },
    {
      "cell_type": "code",
      "metadata": {
        "id": "5Q0VH9HG7JEp"
      },
      "source": [
        "a.isdecimal()"
      ],
      "execution_count": null,
      "outputs": []
    },
    {
      "cell_type": "code",
      "metadata": {
        "id": "jT-npYE17JEp"
      },
      "source": [
        "a.isdigit()"
      ],
      "execution_count": null,
      "outputs": []
    },
    {
      "cell_type": "code",
      "metadata": {
        "id": "A6LuJc2F7JEq"
      },
      "source": [
        "a.isalpha()"
      ],
      "execution_count": null,
      "outputs": []
    },
    {
      "cell_type": "code",
      "metadata": {
        "id": "Oh8WCb3o7JEq"
      },
      "source": [
        "a.isalnum()"
      ],
      "execution_count": null,
      "outputs": []
    },
    {
      "cell_type": "code",
      "metadata": {
        "id": "px3tAE447JEr"
      },
      "source": [
        "a.find(\"1\",0,6)"
      ],
      "execution_count": null,
      "outputs": []
    },
    {
      "cell_type": "markdown",
      "metadata": {
        "id": "d3LHqwEi7JEr"
      },
      "source": [
        "# Lists"
      ]
    },
    {
      "cell_type": "code",
      "metadata": {
        "id": "61edkmEX7JEr"
      },
      "source": [
        "x =[10,20.5,\"python\"]\n",
        "x"
      ],
      "execution_count": null,
      "outputs": []
    },
    {
      "cell_type": "code",
      "metadata": {
        "id": "6YJnLKwh7JEr"
      },
      "source": [
        "type(x)"
      ],
      "execution_count": null,
      "outputs": []
    },
    {
      "cell_type": "code",
      "metadata": {
        "id": "RNdYn_u77JEs"
      },
      "source": [
        "x[1]"
      ],
      "execution_count": null,
      "outputs": []
    },
    {
      "cell_type": "code",
      "metadata": {
        "id": "K9N9AFxK7JEs"
      },
      "source": [
        "x[0:2]"
      ],
      "execution_count": null,
      "outputs": []
    },
    {
      "cell_type": "code",
      "metadata": {
        "id": "QQ5zOLCu7JEs"
      },
      "source": [
        "x[2] = \"class\"\n",
        "x"
      ],
      "execution_count": null,
      "outputs": []
    },
    {
      "cell_type": "code",
      "metadata": {
        "id": "WwOSaSEN7JEs"
      },
      "source": [
        "x[1]= 30"
      ],
      "execution_count": null,
      "outputs": []
    },
    {
      "cell_type": "code",
      "metadata": {
        "id": "yZhk4byF7JEs"
      },
      "source": [
        "x"
      ],
      "execution_count": null,
      "outputs": []
    },
    {
      "cell_type": "code",
      "metadata": {
        "id": "Xl0JGcX77JEs"
      },
      "source": [
        "del x[2]"
      ],
      "execution_count": null,
      "outputs": []
    },
    {
      "cell_type": "code",
      "metadata": {
        "id": "PzTyQumN7JEt"
      },
      "source": [
        "x"
      ],
      "execution_count": null,
      "outputs": []
    },
    {
      "cell_type": "code",
      "metadata": {
        "id": "3Q6GYWO37JEt"
      },
      "source": [
        "z  = [10,10,\"python\",20]"
      ],
      "execution_count": null,
      "outputs": []
    },
    {
      "cell_type": "code",
      "metadata": {
        "id": "gbj8Ma6w7JEt"
      },
      "source": [
        "del z[2]"
      ],
      "execution_count": null,
      "outputs": []
    },
    {
      "cell_type": "code",
      "metadata": {
        "id": "WjULHtnV7JEt"
      },
      "source": [
        "z"
      ],
      "execution_count": null,
      "outputs": []
    },
    {
      "cell_type": "code",
      "metadata": {
        "id": "t02QmSee7JEt"
      },
      "source": [
        "z.remove(10)"
      ],
      "execution_count": null,
      "outputs": []
    },
    {
      "cell_type": "code",
      "metadata": {
        "id": "9RWWMrYS7JEt"
      },
      "source": [
        "z"
      ],
      "execution_count": null,
      "outputs": []
    },
    {
      "cell_type": "code",
      "metadata": {
        "id": "MoemMtcy7JEu"
      },
      "source": [
        "x = [10,10]\n",
        "y = [10,20]\n",
        "x == y, x < y, x > y #comparision operators"
      ],
      "execution_count": null,
      "outputs": []
    },
    {
      "cell_type": "code",
      "metadata": {
        "id": "A-vE-6U87JEu"
      },
      "source": [
        "10 in x, 15 not in y,20 in x #membership operators"
      ],
      "execution_count": null,
      "outputs": []
    },
    {
      "cell_type": "code",
      "metadata": {
        "id": "MAf4gv2M7JEu"
      },
      "source": [
        "x+y #concatenation operator"
      ],
      "execution_count": null,
      "outputs": []
    },
    {
      "cell_type": "code",
      "metadata": {
        "id": "EOZLsRnz7JEu"
      },
      "source": [
        "x*3 #Repitation operator"
      ],
      "execution_count": null,
      "outputs": []
    },
    {
      "cell_type": "code",
      "metadata": {
        "id": "n2tU7N1z7JEu"
      },
      "source": [
        "list1 = [123, 'xyz', 'zara']\n",
        "list2 = [456, 'abc']\n",
        "print (\"First list length : \", len(list1))\n",
        "print (\"First list length : \", len(list2))"
      ],
      "execution_count": null,
      "outputs": []
    },
    {
      "cell_type": "code",
      "metadata": {
        "id": "rwr5xeCN7JEv"
      },
      "source": [
        "list = [1,2,\"a\"]\n",
        "min(y)"
      ],
      "execution_count": null,
      "outputs": []
    },
    {
      "cell_type": "code",
      "metadata": {
        "id": "HjjMBYW77JEv"
      },
      "source": [
        "#Functions and methods of list\n",
        "l1 = [1,2,3,4]\n",
        "print(len(l1))\n",
        "print(min(l1))\n",
        "print(max(l1))\n",
        "print(sum(l1))"
      ],
      "execution_count": null,
      "outputs": []
    },
    {
      "cell_type": "code",
      "metadata": {
        "id": "myo5fiRu7JEv"
      },
      "source": [
        "l2 = [5,1.5,\"y\"]\n",
        "print(len(l2))\n",
        "#print(min(l2))\n",
        "#print(max(l2))\n",
        "#print(sum(l2))"
      ],
      "execution_count": null,
      "outputs": []
    },
    {
      "cell_type": "code",
      "metadata": {
        "id": "pH5amx_h7JEv"
      },
      "source": [
        "x = list()\n",
        "dir(x) #Methods present "
      ],
      "execution_count": null,
      "outputs": []
    },
    {
      "cell_type": "code",
      "metadata": {
        "id": "OOuAxm5P7JEv"
      },
      "source": [
        "l1 = [1,2,3,4]\n",
        "l2 = [5,\"hi\"]\n",
        "l2.extend(l1)\n",
        "l2"
      ],
      "execution_count": null,
      "outputs": []
    },
    {
      "cell_type": "code",
      "metadata": {
        "id": "EITskKCW7JEw"
      },
      "source": [
        "l2.append(\"python\")\n",
        "l2"
      ],
      "execution_count": null,
      "outputs": []
    },
    {
      "cell_type": "code",
      "metadata": {
        "id": "N4BGCEDp7JEw"
      },
      "source": [
        "l1.insert(2,\"hi\")\n",
        "l1"
      ],
      "execution_count": null,
      "outputs": []
    },
    {
      "cell_type": "code",
      "metadata": {
        "id": "4O4aQc8Y7JEw"
      },
      "source": [
        "l1.remove(\"hi\")\n",
        "l1"
      ],
      "execution_count": null,
      "outputs": []
    },
    {
      "cell_type": "code",
      "metadata": {
        "id": "riLAkNHa7JEw"
      },
      "source": [
        "l1.clear()\n",
        "l1"
      ],
      "execution_count": null,
      "outputs": []
    },
    {
      "cell_type": "code",
      "metadata": {
        "id": "M5iJqxFe7JEx"
      },
      "source": [
        "l2.pop()\n",
        "l2"
      ],
      "execution_count": null,
      "outputs": []
    },
    {
      "cell_type": "code",
      "metadata": {
        "id": "1jnYxZoX7JEx"
      },
      "source": [
        "l2.pop(0)\n",
        "l2"
      ],
      "execution_count": null,
      "outputs": []
    },
    {
      "cell_type": "code",
      "metadata": {
        "id": "ESH70u627JEx"
      },
      "source": [
        "l2.index(\"hi\")"
      ],
      "execution_count": null,
      "outputs": []
    },
    {
      "cell_type": "code",
      "metadata": {
        "id": "Xs0T7gLq7JEx"
      },
      "source": [
        "l2.append(\"python\")\n",
        "l2"
      ],
      "execution_count": null,
      "outputs": []
    },
    {
      "cell_type": "code",
      "metadata": {
        "id": "aWE84Wkc7JEx"
      },
      "source": [
        "l2.append(\"python\")\n",
        "l2"
      ],
      "execution_count": null,
      "outputs": []
    },
    {
      "cell_type": "code",
      "metadata": {
        "id": "XDeaGdxD7JEx"
      },
      "source": [
        "l2.count(\"python\")"
      ],
      "execution_count": null,
      "outputs": []
    },
    {
      "cell_type": "code",
      "metadata": {
        "id": "iDIJ9rkO7JEy"
      },
      "source": [
        "l3 = l2.copy()\n",
        "l3"
      ],
      "execution_count": null,
      "outputs": []
    },
    {
      "cell_type": "code",
      "metadata": {
        "id": "KIbqfVgK7JEy"
      },
      "source": [
        "a1 = [10,20,30]\n",
        "a1.append(4)"
      ],
      "execution_count": null,
      "outputs": []
    },
    {
      "cell_type": "code",
      "metadata": {
        "id": "Trw7FQwH7JEy"
      },
      "source": [
        "a1"
      ],
      "execution_count": null,
      "outputs": []
    },
    {
      "cell_type": "code",
      "metadata": {
        "id": "xzNND0QI7JEy"
      },
      "source": [
        "a1.append([5,6])\n",
        "a1"
      ],
      "execution_count": null,
      "outputs": []
    },
    {
      "cell_type": "code",
      "metadata": {
        "id": "TXbrvEfr7JEy"
      },
      "source": [
        "a1.extend([7,8])\n",
        "a1"
      ],
      "execution_count": null,
      "outputs": []
    },
    {
      "cell_type": "markdown",
      "metadata": {
        "id": "xLSr3nbp7JEz"
      },
      "source": [
        "# Tuples"
      ]
    },
    {
      "cell_type": "code",
      "metadata": {
        "id": "rkiv1uuy7JEz"
      },
      "source": [
        "### Create a empty tuple \n",
        "tup1 = ()"
      ],
      "execution_count": null,
      "outputs": []
    },
    {
      "cell_type": "code",
      "metadata": {
        "id": "p7Uf4EhX7JEz"
      },
      "source": [
        "#Accessing Values in Tuples\n",
        "tup1 = ('Street triple','Detona','Beneli', 8055)\n",
        "print(tup1[0])"
      ],
      "execution_count": null,
      "outputs": []
    },
    {
      "cell_type": "code",
      "metadata": {
        "id": "8QnPfMln7JEz"
      },
      "source": [
        "tup2 = (1, 2, 3, 4, 5, 6, 7 )\n",
        "print(tup2[1:9])\n",
        "#tup2.append(tup1)"
      ],
      "execution_count": null,
      "outputs": []
    },
    {
      "cell_type": "code",
      "metadata": {
        "id": "LXzn8QYF7JEz"
      },
      "source": [
        "#Updating Tuples\n",
        "tup1 = (12, 34.56)\n",
        "tup2 = ('abc', 'xyz')\n",
        "#tup1.append(tup2)\n",
        "tup2"
      ],
      "execution_count": null,
      "outputs": []
    },
    {
      "cell_type": "code",
      "metadata": {
        "id": "ga41FQbQ7JEz"
      },
      "source": [
        "# create a new tuple as follows\n",
        "tup1 = tup1 + tup2\n",
        "print(tup1)"
      ],
      "execution_count": null,
      "outputs": []
    },
    {
      "cell_type": "code",
      "metadata": {
        "id": "xsfcdrpe7JE0"
      },
      "source": [
        "#Delete Tuple Elements\n",
        "tup = ('Street triple','Detona','Beneli', 8055)\n",
        "print (tup)\n",
        "del(tup)\n",
        "#print (\"After deleting tup : \")\n",
        "#print(tup)"
      ],
      "execution_count": null,
      "outputs": []
    },
    {
      "cell_type": "code",
      "metadata": {
        "id": "Jm5xTDrR7JE0"
      },
      "source": [
        "#To know length of the tuple \n",
        "tup = (1,2,3,'Basics','Python')\n",
        "len(tup)"
      ],
      "execution_count": null,
      "outputs": []
    },
    {
      "cell_type": "code",
      "metadata": {
        "id": "qdXyQzws7JE0"
      },
      "source": [
        "#To add two elements\n",
        "tup2 =(4,5,6) \n",
        "tup3 = tup+tup2\n",
        "tup3"
      ],
      "execution_count": null,
      "outputs": []
    },
    {
      "cell_type": "code",
      "metadata": {
        "id": "KNeYrVPI7JE0"
      },
      "source": [
        "# Membership\n",
        "#2 in (1, 2, 3)\n",
        "#'o' in kk\n",
        "'u' in 'Fruit'"
      ],
      "execution_count": null,
      "outputs": []
    },
    {
      "cell_type": "code",
      "metadata": {
        "id": "z-qGs9G27JE0"
      },
      "source": [
        "# Max and min in tuple\n",
        "tuple1 = (456, 700, 200)\n",
        "print(max(tuple1))\n",
        "max(tuple1)\n",
        "print(min(tuple1))"
      ],
      "execution_count": null,
      "outputs": []
    },
    {
      "cell_type": "code",
      "metadata": {
        "id": "36tStaqQ7JE1"
      },
      "source": [
        "r='Apple'\n",
        "max(r)\n",
        "min(r)"
      ],
      "execution_count": null,
      "outputs": []
    },
    {
      "cell_type": "code",
      "metadata": {
        "id": "1G-7XCGZ7JE1"
      },
      "source": [
        "tup=()\n",
        "dir(tup)"
      ],
      "execution_count": null,
      "outputs": []
    },
    {
      "cell_type": "code",
      "metadata": {
        "id": "awT9JgS37JE1"
      },
      "source": [
        "tup = (1,2,3,\"py\",\"hi\",\"py\")"
      ],
      "execution_count": null,
      "outputs": []
    },
    {
      "cell_type": "code",
      "metadata": {
        "id": "0ht0jSrM7JE1"
      },
      "source": [
        "tup.count(\"py\")"
      ],
      "execution_count": null,
      "outputs": []
    },
    {
      "cell_type": "code",
      "metadata": {
        "id": "97sJRN6d7JE1"
      },
      "source": [
        "tup.index(2)"
      ],
      "execution_count": null,
      "outputs": []
    },
    {
      "cell_type": "code",
      "metadata": {
        "id": "Wj48Ht5Q7JE1"
      },
      "source": [
        "astr = 'abc'\n",
        "istr = int(astr)\n",
        "print('First', istr)\n",
        "#astr = '123'\n",
        "#istr = int(astr)\n",
        "#print('Second', istr)"
      ],
      "execution_count": null,
      "outputs": []
    },
    {
      "cell_type": "code",
      "metadata": {
        "id": "tLei9WBn7JE2"
      },
      "source": [
        "list =[10,20,30]\n",
        "for i in list:\n",
        "    print(i)\n",
        "#else:\n",
        " #   print(\"all the elements are printed\")"
      ],
      "execution_count": null,
      "outputs": []
    },
    {
      "cell_type": "code",
      "metadata": {
        "id": "yr8KgiFk7JE2"
      },
      "source": [
        "str = \"python\"\n",
        "for i in str:\n",
        "    if i == \"y\":\n",
        "        break\n",
        "    print(i)"
      ],
      "execution_count": null,
      "outputs": []
    },
    {
      "cell_type": "code",
      "metadata": {
        "id": "P-AOduk17JE2"
      },
      "source": [
        "t = (1,2,\"hi\")\n",
        "for i in t:\n",
        "    print(i)"
      ],
      "execution_count": null,
      "outputs": []
    },
    {
      "cell_type": "markdown",
      "metadata": {
        "id": "fIOEdz7w7JE2"
      },
      "source": [
        "# Dictionaries"
      ]
    },
    {
      "cell_type": "code",
      "metadata": {
        "id": "FbGKYGRa7JE2",
        "outputId": "6c72fb33-330b-4020-b861-56e34340abcd"
      },
      "source": [
        "#Accessing Values in Dictionary\n",
        "dict1 = {'Name': 'Vinod', 'Age': 25, 'bike': 'Apache'}\n",
        "print(dict1)\n",
        "print(dict1['Name'])\n",
        "print(dict1['Age'])   \n",
        "print(dict1['bike'])"
      ],
      "execution_count": null,
      "outputs": [
        {
          "output_type": "stream",
          "text": [
            "{'Name': 'Vinod', 'Age': 25, 'bike': 'Apache'}\n",
            "Vinod\n",
            "25\n",
            "Apache\n"
          ],
          "name": "stdout"
        }
      ]
    },
    {
      "cell_type": "code",
      "metadata": {
        "id": "1qEj58A77JE3",
        "outputId": "30bfb5df-2952-43bb-b35a-554d76d8d3dd"
      },
      "source": [
        "##Updating Dictionary\n",
        "dict1['bike']='Pulsar'\n",
        "dict1"
      ],
      "execution_count": null,
      "outputs": [
        {
          "output_type": "execute_result",
          "data": {
            "text/plain": [
              "{'Name': 'Vinod', 'Age': 25, 'bike': 'Pulsar'}"
            ]
          },
          "metadata": {
            "tags": []
          },
          "execution_count": 2
        }
      ]
    },
    {
      "cell_type": "code",
      "metadata": {
        "id": "UgXiT_dY7JE3",
        "outputId": "3bd8abfc-554c-4a85-fdd5-875e39803fcb"
      },
      "source": [
        "dict1['Age'] = 8\n",
        "dict1"
      ],
      "execution_count": null,
      "outputs": [
        {
          "output_type": "execute_result",
          "data": {
            "text/plain": [
              "{'Name': 'Vinod', 'Age': 8, 'bike': 'Pulsar'}"
            ]
          },
          "metadata": {
            "tags": []
          },
          "execution_count": 3
        }
      ]
    },
    {
      "cell_type": "code",
      "metadata": {
        "id": "q4cURe3Z7JE4",
        "outputId": "36579383-3b75-4b63-bec0-ebe2d5604147"
      },
      "source": [
        "#Delete Dictionary Elements\n",
        "dict1 = {'Name': 'Vinod', 'Age': 25, 'bike': 'Apache'}\n",
        "del(dict1['Name']); # remove entry with key 'Name'\n",
        "dict1"
      ],
      "execution_count": null,
      "outputs": [
        {
          "output_type": "execute_result",
          "data": {
            "text/plain": [
              "{'Age': 25, 'bike': 'Apache'}"
            ]
          },
          "metadata": {
            "tags": []
          },
          "execution_count": 4
        }
      ]
    },
    {
      "cell_type": "code",
      "metadata": {
        "id": "UkuXVeFT7JE4",
        "outputId": "315cb163-8f9c-4741-9a72-72b9a91d69a1"
      },
      "source": [
        "dict1.clear()    # remove all entries in dict\n",
        "dict1"
      ],
      "execution_count": null,
      "outputs": [
        {
          "output_type": "execute_result",
          "data": {
            "text/plain": [
              "{}"
            ]
          },
          "metadata": {
            "tags": []
          },
          "execution_count": 5
        }
      ]
    },
    {
      "cell_type": "code",
      "metadata": {
        "id": "fefvDPHw7JE5",
        "outputId": "13869fc5-1322-4fa1-f322-fddfd03f03aa"
      },
      "source": [
        "del(dict1)        # delete entire dictionary\n",
        "dict1"
      ],
      "execution_count": null,
      "outputs": [
        {
          "output_type": "error",
          "ename": "NameError",
          "evalue": "name 'dict1' is not defined",
          "traceback": [
            "\u001b[1;31m---------------------------------------------------------------------------\u001b[0m",
            "\u001b[1;31mNameError\u001b[0m                                 Traceback (most recent call last)",
            "\u001b[1;32m<ipython-input-6-81e34ad3a348>\u001b[0m in \u001b[0;36m<module>\u001b[1;34m\u001b[0m\n\u001b[0;32m      1\u001b[0m \u001b[1;32mdel\u001b[0m\u001b[1;33m(\u001b[0m\u001b[0mdict1\u001b[0m\u001b[1;33m)\u001b[0m        \u001b[1;31m# delete entire dictionary\u001b[0m\u001b[1;33m\u001b[0m\u001b[1;33m\u001b[0m\u001b[0m\n\u001b[1;32m----> 2\u001b[1;33m \u001b[0mdict1\u001b[0m\u001b[1;33m\u001b[0m\u001b[1;33m\u001b[0m\u001b[0m\n\u001b[0m",
            "\u001b[1;31mNameError\u001b[0m: name 'dict1' is not defined"
          ]
        }
      ]
    },
    {
      "cell_type": "code",
      "metadata": {
        "id": "clvkQw-V7JE6"
      },
      "source": [
        "d = dict()"
      ],
      "execution_count": null,
      "outputs": []
    },
    {
      "cell_type": "code",
      "metadata": {
        "id": "1OfnBgh47JE6",
        "outputId": "d4e13d31-cbd6-4c7f-e34d-a8eea2637da2"
      },
      "source": [
        "dir(d)"
      ],
      "execution_count": null,
      "outputs": [
        {
          "output_type": "execute_result",
          "data": {
            "text/plain": [
              "['__class__',\n",
              " '__contains__',\n",
              " '__delattr__',\n",
              " '__delitem__',\n",
              " '__dir__',\n",
              " '__doc__',\n",
              " '__eq__',\n",
              " '__format__',\n",
              " '__ge__',\n",
              " '__getattribute__',\n",
              " '__getitem__',\n",
              " '__gt__',\n",
              " '__hash__',\n",
              " '__init__',\n",
              " '__init_subclass__',\n",
              " '__iter__',\n",
              " '__le__',\n",
              " '__len__',\n",
              " '__lt__',\n",
              " '__ne__',\n",
              " '__new__',\n",
              " '__reduce__',\n",
              " '__reduce_ex__',\n",
              " '__repr__',\n",
              " '__reversed__',\n",
              " '__setattr__',\n",
              " '__setitem__',\n",
              " '__sizeof__',\n",
              " '__str__',\n",
              " '__subclasshook__',\n",
              " 'clear',\n",
              " 'copy',\n",
              " 'fromkeys',\n",
              " 'get',\n",
              " 'items',\n",
              " 'keys',\n",
              " 'pop',\n",
              " 'popitem',\n",
              " 'setdefault',\n",
              " 'update',\n",
              " 'values']"
            ]
          },
          "metadata": {
            "tags": []
          },
          "execution_count": 8
        }
      ]
    },
    {
      "cell_type": "code",
      "metadata": {
        "id": "0qoon32a7JE6"
      },
      "source": [
        ""
      ],
      "execution_count": null,
      "outputs": []
    }
  ]
}