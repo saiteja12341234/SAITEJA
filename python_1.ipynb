{
  "nbformat": 4,
  "nbformat_minor": 0,
  "metadata": {
    "kernelspec": {
      "display_name": "Python 3",
      "language": "python",
      "name": "python3"
    },
    "language_info": {
      "codemirror_mode": {
        "name": "ipython",
        "version": 3
      },
      "file_extension": ".py",
      "mimetype": "text/x-python",
      "name": "python",
      "nbconvert_exporter": "python",
      "pygments_lexer": "ipython3",
      "version": "3.8.3"
    },
    "colab": {
      "name": "python-1.ipynb",
      "provenance": [],
      "include_colab_link": true
    }
  },
  "cells": [
    {
      "cell_type": "markdown",
      "metadata": {
        "id": "view-in-github",
        "colab_type": "text"
      },
      "source": [
        "<a href=\"https://colab.research.google.com/github/saiteja12341234/SAITEJA/blob/main/python_1.ipynb\" target=\"_parent\"><img src=\"https://colab.research.google.com/assets/colab-badge.svg\" alt=\"Open In Colab\"/></a>"
      ]
    },
    {
      "cell_type": "code",
      "metadata": {
        "id": "Qz6NZwuV2wfd"
      },
      "source": [
        "print(\"i am learning python\")"
      ],
      "execution_count": null,
      "outputs": []
    },
    {
      "cell_type": "code",
      "metadata": {
        "id": "cbdxUYhy2wff"
      },
      "source": [
        "5+6"
      ],
      "execution_count": null,
      "outputs": []
    },
    {
      "cell_type": "code",
      "metadata": {
        "id": "kTiLUYbw2wfg"
      },
      "source": [
        "#keywords cannot use name,function name,identifiers and it is a case sensitive\n",
        "import keyword \n",
        "print(keyword.kwlist)\n",
        "print(\"the number of keywords:\", len(keyword.kwlist))"
      ],
      "execution_count": null,
      "outputs": []
    },
    {
      "cell_type": "code",
      "metadata": {
        "id": "XqgLdM7R2wfh"
      },
      "source": [
        "#Identifiers are the name given to class,functions,variables etc\n",
        "#Rules are \n",
        "#1.we can use a conbination of lower case,upper case,digits and underscore.\n",
        "#2.It cannot start with a digit eg:1variable is not valid but variable1 is valid.\n",
        "#3.keywords cannot be used as identifiers\n",
        "#4.cannot use special characters\n",
        "abc123 = 2 #rule1\n",
        "abc123\n",
        "print(abc123"
      ],
      "execution_count": null,
      "outputs": []
    },
    {
      "cell_type": "code",
      "metadata": {
        "id": "xKb7O3ax2wfi"
      },
      "source": [
        "123abc = 2 #rule2 violation"
      ],
      "execution_count": null,
      "outputs": []
    },
    {
      "cell_type": "code",
      "metadata": {
        "id": "NI3SuBtu2wfi"
      },
      "source": [
        "is = 5 #rule 3 violation"
      ],
      "execution_count": null,
      "outputs": []
    },
    {
      "cell_type": "code",
      "metadata": {
        "id": "bT8XDS8D2wfi"
      },
      "source": [
        "ab@ = 5 #rule4 violation"
      ],
      "execution_count": null,
      "outputs": []
    },
    {
      "cell_type": "code",
      "metadata": {
        "id": "gJ4fhcfF2wfj"
      },
      "source": [
        "a = 10\n",
        "type(a)"
      ],
      "execution_count": null,
      "outputs": []
    },
    {
      "cell_type": "code",
      "metadata": {
        "id": "7U3C3mhx2wfj"
      },
      "source": [
        "b = 1.5\n",
        "type(b)"
      ],
      "execution_count": null,
      "outputs": []
    },
    {
      "cell_type": "code",
      "metadata": {
        "id": "MOvw1Qg-2wfj"
      },
      "source": [
        "c  = \"python\"\n",
        "type(c)"
      ],
      "execution_count": null,
      "outputs": []
    },
    {
      "cell_type": "code",
      "metadata": {
        "id": "5e6AcXEf2wfj"
      },
      "source": [
        "x = y = 5 #Multiple Assignments with same value\n",
        "#x\n",
        "y"
      ],
      "execution_count": null,
      "outputs": []
    },
    {
      "cell_type": "code",
      "metadata": {
        "id": "1tiFcb_f2wfk"
      },
      "source": [
        "a,b,c = 1,2,3\n",
        "b"
      ],
      "execution_count": null,
      "outputs": []
    },
    {
      "cell_type": "code",
      "metadata": {
        "id": "FnW5WdAE2wfk"
      },
      "source": [
        "#a = b = c = 10 #same value\n",
        "a,b,c = 10,2,3 #Different values\n",
        "b"
      ],
      "execution_count": null,
      "outputs": []
    },
    {
      "cell_type": "code",
      "metadata": {
        "id": "zEVwm9Gl2wfk"
      },
      "source": [
        "a,b = 1,2 \n",
        "(a,b) = (b,a) #swap\n",
        "a"
      ],
      "execution_count": null,
      "outputs": []
    },
    {
      "cell_type": "code",
      "metadata": {
        "id": "V8bO-4TY2wfl"
      },
      "source": [
        "#Statements\n",
        "a = 1 #single line atatement\n",
        "print(a)"
      ],
      "execution_count": null,
      "outputs": []
    },
    {
      "cell_type": "code",
      "metadata": {
        "id": "7HjAogen2wfl"
      },
      "source": [
        "b = 2 + 3 + 4 + \\\n",
        "    5 + 6 + 7\n",
        "print(b) #multiple statements using \\ which continues in line"
      ],
      "execution_count": null,
      "outputs": []
    },
    {
      "cell_type": "code",
      "metadata": {
        "id": "iURrX4U02wfm"
      },
      "source": [
        "c = (2 + 6 +\n",
        "    4 + 10)\n",
        "print(c)"
      ],
      "execution_count": null,
      "outputs": []
    },
    {
      "cell_type": "markdown",
      "metadata": {
        "id": "yfcPXkih2wfm"
      },
      "source": [
        "# Operators"
      ]
    },
    {
      "cell_type": "code",
      "metadata": {
        "id": "Kx7C9GLw2wfm"
      },
      "source": [
        "#Arithmetic\n",
        "x , y = 15, 2\n",
        "print(x + y) #addition\n",
        "print(x - y) #subtraction\n",
        "print(x * y) #Multiplication\n",
        "print(x /  y)   #division\n",
        "print(x %  y) #Modulo division which gives reminder as result \n",
        "print(x // y)  #Floor division nearest value which is lessthan result\n",
        "print(x ** y)  #exponent or power"
      ],
      "execution_count": null,
      "outputs": []
    },
    {
      "cell_type": "code",
      "metadata": {
        "id": "_VfI4VdF2wfn"
      },
      "source": [
        "#Comparision operators\n",
        "x , y = 15, 10\n",
        "print(x > y)\n",
        "print(x < y)\n",
        "print(x == y)\n",
        "print(x != y)\n",
        "print(x >= y)\n",
        "print(x <= y)"
      ],
      "execution_count": null,
      "outputs": []
    },
    {
      "cell_type": "code",
      "metadata": {
        "id": "b0YkCFns2wfn"
      },
      "source": [
        "#logical operators\n",
        "x , y = True,False\n",
        "print(not y)\n",
        "print(x and y) # &&\n",
        "print(x or y)  # ||"
      ],
      "execution_count": null,
      "outputs": []
    },
    {
      "cell_type": "code",
      "metadata": {
        "id": "dt7kJvX32wfo"
      },
      "source": [
        "#Bitwise operators\n",
        "x , y = 2, 10\n",
        "print(x & y)\n",
        "print(x | y)\n",
        "print(x ^ y)\n",
        "print(~ x)\n",
        "print(x >> y)\n",
        "print(x << y)"
      ],
      "execution_count": null,
      "outputs": []
    },
    {
      "cell_type": "code",
      "metadata": {
        "id": "d4mb39_p2wfo"
      },
      "source": [
        "x = 6\n",
        "y = ~x\n",
        "y"
      ],
      "execution_count": null,
      "outputs": []
    },
    {
      "cell_type": "code",
      "metadata": {
        "id": "3pj2kKU42wfp"
      },
      "source": [
        "#Asssignment operators\n",
        "a = 10\n",
        "#a += 10 # a = a+10\n",
        "#print(a) \n",
        "#a -= 10\n",
        "#a *= 10\n",
        "#a /= 10\n",
        "#a %= 10\n",
        "a //= 6\n",
        "a"
      ],
      "execution_count": null,
      "outputs": []
    },
    {
      "cell_type": "code",
      "metadata": {
        "id": "_eMED6NN2wfp"
      },
      "source": [
        "#special operators \n",
        "#Identity operators is and isnot\n",
        "a , b = 5,5\n",
        "print(a is b)  #it is only true for variables(values) and strings but not list"
      ],
      "execution_count": null,
      "outputs": []
    },
    {
      "cell_type": "code",
      "metadata": {
        "id": "cMHoqeUe2wfp"
      },
      "source": [
        "a=10\n",
        "b=15.2\n",
        "c=\"python\"\n",
        "d = 5+4j\n",
        "type(a),type(b),type(c),type(d)"
      ],
      "execution_count": null,
      "outputs": []
    },
    {
      "cell_type": "code",
      "metadata": {
        "id": "IsLUPBya2wfp"
      },
      "source": [
        "x = 10\n",
        "x = 15\n",
        "#print(id(x)),print(id(y))\n",
        "x"
      ],
      "execution_count": null,
      "outputs": []
    },
    {
      "cell_type": "code",
      "metadata": {
        "id": "8SIs99-92wfq"
      },
      "source": [
        "y = 10.5\n",
        "z = int(y)\n",
        "z"
      ],
      "execution_count": null,
      "outputs": []
    },
    {
      "cell_type": "markdown",
      "metadata": {
        "id": "Ldj5vAFY2wfq"
      },
      "source": [
        "# If statement"
      ]
    },
    {
      "cell_type": "code",
      "metadata": {
        "id": "ssMu9frw2wfq"
      },
      "source": [
        "x = int(input(\"enter the value of x:\"))\n",
        "if x==15:\n",
        "    print(\"equal\")"
      ],
      "execution_count": null,
      "outputs": []
    },
    {
      "cell_type": "markdown",
      "metadata": {
        "id": "SwMdpx4Q2wfr"
      },
      "source": [
        "# if-else"
      ]
    },
    {
      "cell_type": "code",
      "metadata": {
        "id": "pYCO61Sb2wfr"
      },
      "source": [
        "num=int(input(\"enter the vlue\"))\n",
        "if num > 5:\n",
        "    print(\"positive number\")\n",
        "else:\n",
        "    print(\"Negative number\")\n"
      ],
      "execution_count": null,
      "outputs": []
    },
    {
      "cell_type": "markdown",
      "metadata": {
        "id": "3vaBIJVL2wfr"
      },
      "source": [
        "# if-elif-else"
      ]
    },
    {
      "cell_type": "code",
      "metadata": {
        "id": "G4y-atoq2wfs"
      },
      "source": [
        "num = int(input(\"Enter the value of x:\"))\n",
        "if num>10:\n",
        "    print(\"Positive\")\n",
        "elif num==10:\n",
        "    print(\"equal\")\n",
        "else:\n",
        "    print(\"Negative\")"
      ],
      "execution_count": null,
      "outputs": []
    },
    {
      "cell_type": "code",
      "metadata": {
        "id": "zeWNOoSk2wfs"
      },
      "source": [
        "#Nested if stmts\n",
        "num = 9\n",
        "if num >= 10:\n",
        "    if num==10:\n",
        "        print(\"Equal\")\n",
        "    else:\n",
        "        print(\"Positive\")\n",
        "else:\n",
        "    print(\"Negative\")"
      ],
      "execution_count": null,
      "outputs": []
    },
    {
      "cell_type": "code",
      "metadata": {
        "id": "MiYPP8LD2wft"
      },
      "source": [
        "#Largest numbers among 3\n",
        "a,b,c=10,20,15\n",
        "if (a>b) and (a>c):\n",
        "    print(\"Largest value is a\")\n",
        "elif (b>a) and (b>c):\n",
        "    print(\"Largest number is b\")\n",
        "else:\n",
        "    print(\"Largest number is c\")\n"
      ],
      "execution_count": null,
      "outputs": []
    },
    {
      "cell_type": "code",
      "metadata": {
        "id": "LSYJ5xxi2wft"
      },
      "source": [
        "#Largest numbers among 3\n",
        "a,b,c=10,20,15\n",
        "if (a>=b) and (a>=c):\n",
        "    Largest=a\n",
        "elif (b>=a) and (b>=c):\n",
        "    Largest=b\n",
        "else:\n",
        "    Largest=c\n",
        "print(\"Largest number in a,b,c is {}\".format(Largest))"
      ],
      "execution_count": null,
      "outputs": []
    },
    {
      "cell_type": "code",
      "metadata": {
        "id": "yUoIl6iE2wft"
      },
      "source": [
        "#Nested if\n",
        "x = 40\n",
        "if x >= 40:\n",
        "    print(\"x is greater than or equal to:\",x)\n",
        "    if x < 100:\n",
        "        print(\"x is lessthan 100\",x)\n",
        "print(\"completed\")"
      ],
      "execution_count": null,
      "outputs": []
    },
    {
      "cell_type": "markdown",
      "metadata": {
        "id": "AysG0iyj2wfu"
      },
      "source": [
        "# for loop"
      ]
    },
    {
      "cell_type": "code",
      "metadata": {
        "id": "rFE5RdeV2wfu"
      },
      "source": [
        "#Python comments # or '''content ''' or \"\"\"content\"\"\".\n",
        "#indantation\n",
        "#range()\n",
        "for i in range(4):\n",
        "    print(i)"
      ],
      "execution_count": null,
      "outputs": []
    },
    {
      "cell_type": "code",
      "metadata": {
        "id": "P2qTB3qW2wfu"
      },
      "source": [
        "#range(start,end,step size)\n",
        "for i in range(0,10,2):\n",
        "    print(i)"
      ],
      "execution_count": null,
      "outputs": []
    },
    {
      "cell_type": "code",
      "metadata": {
        "id": "ayDFjjlk2wfv"
      },
      "source": [
        "for i in range(0,10,1):\n",
        "    print(i)"
      ],
      "execution_count": null,
      "outputs": []
    },
    {
      "cell_type": "code",
      "metadata": {
        "id": "RbpTtThO2wfv"
      },
      "source": [
        "#nested\n",
        "for i in range(5):\n",
        "    print(i)\n",
        "    if i > 2:\n",
        "        print(\"the values greater than 2\",i)\n",
        "    print(\"completed i\",i)\n",
        "print(\"completed\")"
      ],
      "execution_count": null,
      "outputs": []
    },
    {
      "cell_type": "markdown",
      "metadata": {
        "id": "msk31JYs2wfv"
      },
      "source": [
        "# while loop"
      ]
    },
    {
      "cell_type": "code",
      "metadata": {
        "id": "wBEdYp582wfv"
      },
      "source": [
        "i = 1\n",
        "while i <= 3:\n",
        "    print(\"python\")\n",
        "    i += 1 #i= i+1\n",
        "print(\"completed\")"
      ],
      "execution_count": null,
      "outputs": []
    },
    {
      "cell_type": "code",
      "metadata": {
        "id": "0gPiTOfS2wfv"
      },
      "source": [
        "i = 5\n",
        "while i >= 4:\n",
        "    print(\"python\")\n",
        "    i -= 1\n",
        "print(\"completed\")"
      ],
      "execution_count": null,
      "outputs": []
    },
    {
      "cell_type": "markdown",
      "metadata": {
        "id": "GH15OAzo2wfw"
      },
      "source": [
        "# break,continue,pass "
      ]
    },
    {
      "cell_type": "code",
      "metadata": {
        "id": "UMUVk9T32wfw"
      },
      "source": [
        "#Break: Terminates from loop\n",
        "for i in range(5):\n",
        "    if i == 3:\n",
        "        break\n",
        "    print(i)"
      ],
      "execution_count": null,
      "outputs": []
    },
    {
      "cell_type": "code",
      "metadata": {
        "id": "SLJ6yD2V2wfw"
      },
      "source": [
        "#continue: It will skip that current iteration in execution\n",
        "for i in range(5):\n",
        "    if i == 3:\n",
        "        continue\n",
        "    print(i)"
      ],
      "execution_count": null,
      "outputs": []
    },
    {
      "cell_type": "code",
      "metadata": {
        "scrolled": true,
        "id": "NXg9udPG2wfx"
      },
      "source": [
        "#Pass\n",
        "for i in range(5):\n",
        "    if i ==3:\n",
        "        pass\n",
        "    print(i)"
      ],
      "execution_count": null,
      "outputs": []
    },
    {
      "cell_type": "markdown",
      "metadata": {
        "id": "jT4yZIqT2wfx"
      },
      "source": [
        "# Strings"
      ]
    },
    {
      "cell_type": "code",
      "metadata": {
        "id": "im1CTMtS2wfx"
      },
      "source": [
        "#Sequences in python\n",
        "#String\n",
        "s  = 'Python'\n",
        "s1 = \"Python\"\n",
        "type(s1)"
      ],
      "execution_count": null,
      "outputs": []
    },
    {
      "cell_type": "code",
      "metadata": {
        "id": "H0fmYAep2wfx"
      },
      "source": [
        "#Concatenation\n",
        "a  =\"This is\"\n",
        "b = \"Python Class\"\n",
        "a +\" \"+ b"
      ],
      "execution_count": null,
      "outputs": []
    },
    {
      "cell_type": "code",
      "metadata": {
        "id": "E6tzkCJn2wfy"
      },
      "source": [
        "#clear the content \n",
        "s =  \" \"\n",
        "s"
      ],
      "execution_count": null,
      "outputs": []
    },
    {
      "cell_type": "code",
      "metadata": {
        "id": "AiGcTyB92wfy"
      },
      "source": [
        "#Remove string from memory\n",
        "del s"
      ],
      "execution_count": null,
      "outputs": []
    },
    {
      "cell_type": "code",
      "metadata": {
        "id": "RkBsn3-A2wfy"
      },
      "source": [
        "s"
      ],
      "execution_count": null,
      "outputs": []
    },
    {
      "cell_type": "code",
      "metadata": {
        "id": "5xEpku9r2wfz"
      },
      "source": [
        "#Access the content of string\n",
        "s = \"we are learning python\"\n",
        "s[1]"
      ],
      "execution_count": null,
      "outputs": []
    },
    {
      "cell_type": "code",
      "metadata": {
        "id": "vxYPEpD02wfz"
      },
      "source": [
        "s[7:]"
      ],
      "execution_count": null,
      "outputs": []
    },
    {
      "cell_type": "code",
      "metadata": {
        "id": "zaEKtBUe2wfz"
      },
      "source": [
        "s[:7]"
      ],
      "execution_count": null,
      "outputs": []
    },
    {
      "cell_type": "code",
      "metadata": {
        "id": "a0bPeaal2wf3"
      },
      "source": [
        "s[7:15]"
      ],
      "execution_count": null,
      "outputs": []
    },
    {
      "cell_type": "code",
      "metadata": {
        "id": "P7r-43ki2wf3"
      },
      "source": [
        "s[16:]"
      ],
      "execution_count": null,
      "outputs": []
    },
    {
      "cell_type": "code",
      "metadata": {
        "id": "FjEVgJov2wf4"
      },
      "source": [
        "s[16:22]"
      ],
      "execution_count": null,
      "outputs": []
    },
    {
      "cell_type": "code",
      "metadata": {
        "id": "9add9oju2wf4"
      },
      "source": [
        "a  = \"name\"\n",
        "a[3]"
      ],
      "execution_count": null,
      "outputs": []
    },
    {
      "cell_type": "code",
      "metadata": {
        "id": "WDfghg7s2wf4"
      },
      "source": [
        "#Back indexing\n",
        "a[-1]"
      ],
      "execution_count": null,
      "outputs": []
    },
    {
      "cell_type": "code",
      "metadata": {
        "id": "oHtGaR-L2wf5"
      },
      "source": [
        "len(a),len(s) #Length od string"
      ],
      "execution_count": null,
      "outputs": []
    },
    {
      "cell_type": "code",
      "metadata": {
        "id": "Cr5ZQ6_Q2wf5"
      },
      "source": [
        "s"
      ],
      "execution_count": null,
      "outputs": []
    },
    {
      "cell_type": "code",
      "metadata": {
        "id": "zGaLGl4i2wf5"
      },
      "source": [
        "max(s)"
      ],
      "execution_count": null,
      "outputs": []
    },
    {
      "cell_type": "code",
      "metadata": {
        "id": "mgXnKBaU2wf5"
      },
      "source": [
        "min(s)"
      ],
      "execution_count": null,
      "outputs": []
    },
    {
      "cell_type": "code",
      "metadata": {
        "id": "8-eqZ64q2wf5"
      },
      "source": [
        "a"
      ],
      "execution_count": null,
      "outputs": []
    },
    {
      "cell_type": "code",
      "metadata": {
        "id": "umTW5hK-2wf6"
      },
      "source": [
        "min(a)"
      ],
      "execution_count": null,
      "outputs": []
    },
    {
      "cell_type": "code",
      "metadata": {
        "id": "_7XdT0O42wf6"
      },
      "source": [
        "max(a)"
      ],
      "execution_count": null,
      "outputs": []
    },
    {
      "cell_type": "code",
      "metadata": {
        "id": "yk1XtSD32wf6"
      },
      "source": [
        "a"
      ],
      "execution_count": null,
      "outputs": []
    },
    {
      "cell_type": "code",
      "metadata": {
        "id": "HSDCLcCB2wf6"
      },
      "source": [
        "a.capitalize()"
      ],
      "execution_count": null,
      "outputs": []
    },
    {
      "cell_type": "code",
      "metadata": {
        "id": "FKNz3t2T2wf6"
      },
      "source": [
        "b = a.upper()\n",
        "b"
      ],
      "execution_count": null,
      "outputs": []
    },
    {
      "cell_type": "code",
      "metadata": {
        "id": "TBL2ZlEO2wf7"
      },
      "source": [
        "b.lower()"
      ],
      "execution_count": null,
      "outputs": []
    },
    {
      "cell_type": "code",
      "metadata": {
        "id": "jbNOMRdw2wf7"
      },
      "source": [
        "a.center(50)"
      ],
      "execution_count": null,
      "outputs": []
    },
    {
      "cell_type": "code",
      "metadata": {
        "id": "CMOJZR0j2wf7"
      },
      "source": [
        "a = \"name122\""
      ],
      "execution_count": null,
      "outputs": []
    },
    {
      "cell_type": "code",
      "metadata": {
        "id": "DwHEuPF12wf7"
      },
      "source": [
        "a.isdecimal()"
      ],
      "execution_count": null,
      "outputs": []
    },
    {
      "cell_type": "code",
      "metadata": {
        "id": "EJl2bN7w2wf7"
      },
      "source": [
        "a.isdigit()"
      ],
      "execution_count": null,
      "outputs": []
    },
    {
      "cell_type": "code",
      "metadata": {
        "id": "LDc61Imx2wf7"
      },
      "source": [
        "a.isalpha()"
      ],
      "execution_count": null,
      "outputs": []
    },
    {
      "cell_type": "code",
      "metadata": {
        "id": "XTaVTm9F2wf8"
      },
      "source": [
        "a.isalnum()"
      ],
      "execution_count": null,
      "outputs": []
    },
    {
      "cell_type": "code",
      "metadata": {
        "id": "jE7U0rUg2wf8"
      },
      "source": [
        "a.find(\"1\",0,6)"
      ],
      "execution_count": null,
      "outputs": []
    },
    {
      "cell_type": "markdown",
      "metadata": {
        "id": "_CNql7vO2wf8"
      },
      "source": [
        "# Lists"
      ]
    },
    {
      "cell_type": "code",
      "metadata": {
        "id": "Om0dgwRG2wf8"
      },
      "source": [
        "x =[10,20.5,\"python\"]\n",
        "x"
      ],
      "execution_count": null,
      "outputs": []
    },
    {
      "cell_type": "code",
      "metadata": {
        "id": "DxILJ5nu2wf8"
      },
      "source": [
        "type(x)"
      ],
      "execution_count": null,
      "outputs": []
    },
    {
      "cell_type": "code",
      "metadata": {
        "id": "hx1coJ_Q2wf9"
      },
      "source": [
        "x[1]"
      ],
      "execution_count": null,
      "outputs": []
    },
    {
      "cell_type": "code",
      "metadata": {
        "id": "qYSgp2EN2wf9"
      },
      "source": [
        "x[0:2]"
      ],
      "execution_count": null,
      "outputs": []
    },
    {
      "cell_type": "code",
      "metadata": {
        "id": "3l9CGPp_2wf9"
      },
      "source": [
        "x[2] = \"class\"\n",
        "x"
      ],
      "execution_count": null,
      "outputs": []
    },
    {
      "cell_type": "code",
      "metadata": {
        "id": "RjOTnQdQ2wf9"
      },
      "source": [
        "x[1]= 30"
      ],
      "execution_count": null,
      "outputs": []
    },
    {
      "cell_type": "code",
      "metadata": {
        "id": "gX2chUFE2wf9"
      },
      "source": [
        "x"
      ],
      "execution_count": null,
      "outputs": []
    },
    {
      "cell_type": "code",
      "metadata": {
        "id": "rkL1Frds2wf9"
      },
      "source": [
        "del x[2]"
      ],
      "execution_count": null,
      "outputs": []
    },
    {
      "cell_type": "code",
      "metadata": {
        "id": "EnTQKNfl2wf-"
      },
      "source": [
        "x"
      ],
      "execution_count": null,
      "outputs": []
    },
    {
      "cell_type": "code",
      "metadata": {
        "id": "G7JpWVax2wf-"
      },
      "source": [
        "z  = [10,10,\"python\",20]"
      ],
      "execution_count": null,
      "outputs": []
    },
    {
      "cell_type": "code",
      "metadata": {
        "id": "eJJpmef32wf-"
      },
      "source": [
        "del z[2]"
      ],
      "execution_count": null,
      "outputs": []
    },
    {
      "cell_type": "code",
      "metadata": {
        "id": "ltGF8bpC2wf-"
      },
      "source": [
        "z"
      ],
      "execution_count": null,
      "outputs": []
    },
    {
      "cell_type": "code",
      "metadata": {
        "id": "rDYEUwnO2wf-"
      },
      "source": [
        "z.remove(10)"
      ],
      "execution_count": null,
      "outputs": []
    },
    {
      "cell_type": "code",
      "metadata": {
        "id": "YsvfVpo92wf-"
      },
      "source": [
        "z"
      ],
      "execution_count": null,
      "outputs": []
    },
    {
      "cell_type": "code",
      "metadata": {
        "id": "-sa81VdJ2wf_"
      },
      "source": [
        "x = [10,10]\n",
        "y = [10,20]\n",
        "x == y, x < y, x > y #comparision operators"
      ],
      "execution_count": null,
      "outputs": []
    },
    {
      "cell_type": "code",
      "metadata": {
        "id": "iI4Fwayo2wf_"
      },
      "source": [
        "10 in x, 15 not in y,20 in x #membership operators"
      ],
      "execution_count": null,
      "outputs": []
    },
    {
      "cell_type": "code",
      "metadata": {
        "id": "j-6Aq8462wf_"
      },
      "source": [
        "x+y #concatenation operator"
      ],
      "execution_count": null,
      "outputs": []
    },
    {
      "cell_type": "code",
      "metadata": {
        "id": "ymTyBsS32wf_"
      },
      "source": [
        "x*3 #Repitation operator"
      ],
      "execution_count": null,
      "outputs": []
    },
    {
      "cell_type": "code",
      "metadata": {
        "id": "6sLUNM2x2wf_"
      },
      "source": [
        "list1 = [123, 'xyz', 'zara']\n",
        "list2 = [456, 'abc']\n",
        "print (\"First list length : \", len(list1))\n",
        "print (\"First list length : \", len(list2))"
      ],
      "execution_count": null,
      "outputs": []
    },
    {
      "cell_type": "code",
      "metadata": {
        "id": "9Ya85LN42wgA"
      },
      "source": [
        "list = [1,2,\"a\"]\n",
        "min(y)"
      ],
      "execution_count": null,
      "outputs": []
    },
    {
      "cell_type": "code",
      "metadata": {
        "id": "h76x0xtR2wgA"
      },
      "source": [
        "#Functions and methods of list\n",
        "l1 = [1,2,3,4]\n",
        "print(len(l1))\n",
        "print(min(l1))\n",
        "print(max(l1))\n",
        "print(sum(l1))"
      ],
      "execution_count": null,
      "outputs": []
    },
    {
      "cell_type": "code",
      "metadata": {
        "id": "SChJlKVj2wgA"
      },
      "source": [
        "l2 = [5,1.5,\"y\"]\n",
        "print(len(l2))\n",
        "#print(min(l2))\n",
        "#print(max(l2))\n",
        "#print(sum(l2))"
      ],
      "execution_count": null,
      "outputs": []
    },
    {
      "cell_type": "code",
      "metadata": {
        "id": "mKwTbp9W2wgA"
      },
      "source": [
        "x = list()\n",
        "dir(x) #Methods present "
      ],
      "execution_count": null,
      "outputs": []
    },
    {
      "cell_type": "code",
      "metadata": {
        "id": "6ZSuBlfU2wgA"
      },
      "source": [
        "l1 = [1,2,3,4]\n",
        "l2 = [5,\"hi\"]\n",
        "l2.extend(l1)\n",
        "l2"
      ],
      "execution_count": null,
      "outputs": []
    },
    {
      "cell_type": "code",
      "metadata": {
        "id": "2wUWZEco2wgB"
      },
      "source": [
        "l2.append(\"python\")\n",
        "l2"
      ],
      "execution_count": null,
      "outputs": []
    },
    {
      "cell_type": "code",
      "metadata": {
        "id": "QQOnF5YO2wgB"
      },
      "source": [
        "l1.insert(2,\"hi\")\n",
        "l1"
      ],
      "execution_count": null,
      "outputs": []
    },
    {
      "cell_type": "code",
      "metadata": {
        "id": "KbjAULgj2wgB"
      },
      "source": [
        "l1.remove(\"hi\")\n",
        "l1"
      ],
      "execution_count": null,
      "outputs": []
    },
    {
      "cell_type": "code",
      "metadata": {
        "id": "PEMEM9sV2wgC"
      },
      "source": [
        "l1.clear()\n",
        "l1"
      ],
      "execution_count": null,
      "outputs": []
    },
    {
      "cell_type": "code",
      "metadata": {
        "id": "EX0njsjH2wgC"
      },
      "source": [
        "l2.pop()\n",
        "l2"
      ],
      "execution_count": null,
      "outputs": []
    },
    {
      "cell_type": "code",
      "metadata": {
        "id": "MhJrrmRg2wgC"
      },
      "source": [
        "l2.pop(0)\n",
        "l2"
      ],
      "execution_count": null,
      "outputs": []
    },
    {
      "cell_type": "code",
      "metadata": {
        "id": "y5YydQEr2wgC"
      },
      "source": [
        "l2.index(\"hi\")"
      ],
      "execution_count": null,
      "outputs": []
    },
    {
      "cell_type": "code",
      "metadata": {
        "id": "goKkY_Ek2wgD"
      },
      "source": [
        "l2.append(\"python\")\n",
        "l2"
      ],
      "execution_count": null,
      "outputs": []
    },
    {
      "cell_type": "code",
      "metadata": {
        "id": "Sp5KCsqu2wgD"
      },
      "source": [
        "l2.append(\"python\")\n",
        "l2"
      ],
      "execution_count": null,
      "outputs": []
    },
    {
      "cell_type": "code",
      "metadata": {
        "id": "8ooB6UD82wgD"
      },
      "source": [
        "l2.count(\"python\")"
      ],
      "execution_count": null,
      "outputs": []
    },
    {
      "cell_type": "code",
      "metadata": {
        "id": "BG5Vu0FS2wgD"
      },
      "source": [
        "l3 = l2.copy()\n",
        "l3"
      ],
      "execution_count": null,
      "outputs": []
    },
    {
      "cell_type": "code",
      "metadata": {
        "id": "OVZCcBJ22wgD"
      },
      "source": [
        "a1 = [10,20,30]\n",
        "a1.append(4)"
      ],
      "execution_count": null,
      "outputs": []
    },
    {
      "cell_type": "code",
      "metadata": {
        "id": "YBrjvzBL2wgE"
      },
      "source": [
        "a1"
      ],
      "execution_count": null,
      "outputs": []
    },
    {
      "cell_type": "code",
      "metadata": {
        "id": "k3XlELc32wgE"
      },
      "source": [
        "a1.append([5,6])\n",
        "a1"
      ],
      "execution_count": null,
      "outputs": []
    },
    {
      "cell_type": "code",
      "metadata": {
        "id": "yO2Ubnsd2wgE"
      },
      "source": [
        "a1.extend([7,8])\n",
        "a1"
      ],
      "execution_count": null,
      "outputs": []
    },
    {
      "cell_type": "markdown",
      "metadata": {
        "id": "HCQZ9HJ82wgE"
      },
      "source": [
        "# Tuples"
      ]
    },
    {
      "cell_type": "code",
      "metadata": {
        "id": "431kSvy_2wgE"
      },
      "source": [
        "### Create a empty tuple \n",
        "tup1 = ()"
      ],
      "execution_count": null,
      "outputs": []
    },
    {
      "cell_type": "code",
      "metadata": {
        "id": "UuzTo-mW2wgE"
      },
      "source": [
        "#Accessing Values in Tuples\n",
        "tup1 = ('Street triple','Detona','Beneli', 8055)\n",
        "print(tup1[0])"
      ],
      "execution_count": null,
      "outputs": []
    },
    {
      "cell_type": "code",
      "metadata": {
        "id": "ADjw7XIx2wgF"
      },
      "source": [
        "tup2 = (1, 2, 3, 4, 5, 6, 7 )\n",
        "print(tup2[1:9])\n",
        "#tup2.append(tup1)"
      ],
      "execution_count": null,
      "outputs": []
    },
    {
      "cell_type": "code",
      "metadata": {
        "id": "x0u6AZV42wgF"
      },
      "source": [
        "#Updating Tuples\n",
        "tup1 = (12, 34.56)\n",
        "tup2 = ('abc', 'xyz')\n",
        "#tup1.append(tup2)\n",
        "tup2"
      ],
      "execution_count": null,
      "outputs": []
    },
    {
      "cell_type": "code",
      "metadata": {
        "id": "02vu1pqM2wgF"
      },
      "source": [
        "# create a new tuple as follows\n",
        "tup1 = tup1 + tup2\n",
        "print(tup1)"
      ],
      "execution_count": null,
      "outputs": []
    },
    {
      "cell_type": "code",
      "metadata": {
        "id": "Vqx_gCun2wgF"
      },
      "source": [
        "#Delete Tuple Elements\n",
        "tup = ('Street triple','Detona','Beneli', 8055)\n",
        "print (tup)\n",
        "del(tup)\n",
        "#print (\"After deleting tup : \")\n",
        "#print(tup)"
      ],
      "execution_count": null,
      "outputs": []
    },
    {
      "cell_type": "code",
      "metadata": {
        "id": "L36qTWVU2wgG"
      },
      "source": [
        "#To know length of the tuple \n",
        "tup = (1,2,3,'Basics','Python')\n",
        "len(tup)"
      ],
      "execution_count": null,
      "outputs": []
    },
    {
      "cell_type": "code",
      "metadata": {
        "id": "WEc-YnBA2wgG"
      },
      "source": [
        "#To add two elements\n",
        "tup2 =(4,5,6) \n",
        "tup3 = tup+tup2\n",
        "tup3"
      ],
      "execution_count": null,
      "outputs": []
    },
    {
      "cell_type": "code",
      "metadata": {
        "id": "ZTAnWAMN2wgG"
      },
      "source": [
        "# Membership\n",
        "#2 in (1, 2, 3)\n",
        "#'o' in kk\n",
        "'u' in 'Fruit'"
      ],
      "execution_count": null,
      "outputs": []
    },
    {
      "cell_type": "code",
      "metadata": {
        "id": "kXrWzP_p2wgG"
      },
      "source": [
        "# Max and min in tuple\n",
        "tuple1 = (456, 700, 200)\n",
        "print(max(tuple1))\n",
        "max(tuple1)\n",
        "print(min(tuple1))"
      ],
      "execution_count": null,
      "outputs": []
    },
    {
      "cell_type": "code",
      "metadata": {
        "id": "H0x5iJtW2wgG"
      },
      "source": [
        "r='Apple'\n",
        "max(r)\n",
        "min(r)"
      ],
      "execution_count": null,
      "outputs": []
    },
    {
      "cell_type": "code",
      "metadata": {
        "id": "1c4Z2YKT2wgH"
      },
      "source": [
        "tup=()\n",
        "dir(tup)"
      ],
      "execution_count": null,
      "outputs": []
    },
    {
      "cell_type": "code",
      "metadata": {
        "id": "5tsitxIT2wgH"
      },
      "source": [
        "tup = (1,2,3,\"py\",\"hi\",\"py\")"
      ],
      "execution_count": null,
      "outputs": []
    },
    {
      "cell_type": "code",
      "metadata": {
        "id": "yrWiy9ul2wgH"
      },
      "source": [
        "tup.count(\"py\")"
      ],
      "execution_count": null,
      "outputs": []
    },
    {
      "cell_type": "code",
      "metadata": {
        "id": "d37X9LZC2wgH"
      },
      "source": [
        "tup.index(2)"
      ],
      "execution_count": null,
      "outputs": []
    },
    {
      "cell_type": "code",
      "metadata": {
        "id": "CE75EAlR2wgH"
      },
      "source": [
        "astr = 'abc'\n",
        "istr = int(astr)\n",
        "print('First', istr)\n",
        "#astr = '123'\n",
        "#istr = int(astr)\n",
        "#print('Second', istr)"
      ],
      "execution_count": null,
      "outputs": []
    },
    {
      "cell_type": "code",
      "metadata": {
        "id": "QYDRljAS2wgH"
      },
      "source": [
        "list =[10,20,30]\n",
        "for i in list:\n",
        "    print(i)\n",
        "#else:\n",
        " #   print(\"all the elements are printed\")"
      ],
      "execution_count": null,
      "outputs": []
    },
    {
      "cell_type": "code",
      "metadata": {
        "id": "jeRgjJOZ2wgI"
      },
      "source": [
        "str = \"python\"\n",
        "for i in str:\n",
        "    if i == \"y\":\n",
        "        break\n",
        "    print(i)"
      ],
      "execution_count": null,
      "outputs": []
    },
    {
      "cell_type": "code",
      "metadata": {
        "id": "3LK6dfX62wgI"
      },
      "source": [
        "t = (1,2,\"hi\")\n",
        "for i in t:\n",
        "    print(i)"
      ],
      "execution_count": null,
      "outputs": []
    },
    {
      "cell_type": "markdown",
      "metadata": {
        "id": "hwjIcf1d2wgI"
      },
      "source": [
        "# Dictionaries"
      ]
    },
    {
      "cell_type": "code",
      "metadata": {
        "id": "5rk-7Qgg2wgI",
        "outputId": "be8b01f9-7bfd-48b1-8697-1eb22366b58b"
      },
      "source": [
        "#Accessing Values in Dictionary\n",
        "dict1 = {'Name': 'Vinod', 'Age': 25, 'bike': 'Apache'}\n",
        "print(dict1)\n",
        "print(dict1['Name'])\n",
        "print(dict1['Age'])   \n",
        "print(dict1['bike'])"
      ],
      "execution_count": null,
      "outputs": [
        {
          "output_type": "stream",
          "text": [
            "{'Name': 'Vinod', 'Age': 25, 'bike': 'Apache'}\n",
            "Vinod\n",
            "25\n",
            "Apache\n"
          ],
          "name": "stdout"
        }
      ]
    },
    {
      "cell_type": "code",
      "metadata": {
        "id": "cJfku5c22wgJ",
        "outputId": "19069b1e-de33-4081-d84f-45ed871a066b"
      },
      "source": [
        "##Updating Dictionary\n",
        "dict1['bike']='Pulsar'\n",
        "dict1"
      ],
      "execution_count": null,
      "outputs": [
        {
          "output_type": "execute_result",
          "data": {
            "text/plain": [
              "{'Name': 'Vinod', 'Age': 25, 'bike': 'Pulsar'}"
            ]
          },
          "metadata": {
            "tags": []
          },
          "execution_count": 2
        }
      ]
    },
    {
      "cell_type": "code",
      "metadata": {
        "id": "eUS7Ng0b2wgJ",
        "outputId": "4938ce9e-b41b-4514-aadb-9c01ebaff40e"
      },
      "source": [
        "dict1['Age'] = 8\n",
        "dict1"
      ],
      "execution_count": null,
      "outputs": [
        {
          "output_type": "execute_result",
          "data": {
            "text/plain": [
              "{'Name': 'Vinod', 'Age': 8, 'bike': 'Pulsar'}"
            ]
          },
          "metadata": {
            "tags": []
          },
          "execution_count": 3
        }
      ]
    },
    {
      "cell_type": "code",
      "metadata": {
        "id": "pxqGK5XB2wgK",
        "outputId": "26bd9bf7-162a-48aa-f33d-c2092b8803e8"
      },
      "source": [
        "#Delete Dictionary Elements\n",
        "dict1 = {'Name': 'Vinod', 'Age': 25, 'bike': 'Apache'}\n",
        "del(dict1['Name']); # remove entry with key 'Name'\n",
        "dict1"
      ],
      "execution_count": null,
      "outputs": [
        {
          "output_type": "execute_result",
          "data": {
            "text/plain": [
              "{'Age': 25, 'bike': 'Apache'}"
            ]
          },
          "metadata": {
            "tags": []
          },
          "execution_count": 4
        }
      ]
    },
    {
      "cell_type": "code",
      "metadata": {
        "id": "iVZD19TL2wgK",
        "outputId": "22d74ff4-d220-4583-ee2b-b537abd07607"
      },
      "source": [
        "dict1.clear()    # remove all entries in dict\n",
        "dict1"
      ],
      "execution_count": null,
      "outputs": [
        {
          "output_type": "execute_result",
          "data": {
            "text/plain": [
              "{}"
            ]
          },
          "metadata": {
            "tags": []
          },
          "execution_count": 5
        }
      ]
    },
    {
      "cell_type": "code",
      "metadata": {
        "id": "rt7LI7Mb2wgK",
        "outputId": "4574a3d3-c376-4dee-ca60-04fe84898f21"
      },
      "source": [
        "del(dict1)        # delete entire dictionary\n",
        "dict1"
      ],
      "execution_count": null,
      "outputs": [
        {
          "output_type": "error",
          "ename": "NameError",
          "evalue": "name 'dict1' is not defined",
          "traceback": [
            "\u001b[1;31m---------------------------------------------------------------------------\u001b[0m",
            "\u001b[1;31mNameError\u001b[0m                                 Traceback (most recent call last)",
            "\u001b[1;32m<ipython-input-6-81e34ad3a348>\u001b[0m in \u001b[0;36m<module>\u001b[1;34m\u001b[0m\n\u001b[0;32m      1\u001b[0m \u001b[1;32mdel\u001b[0m\u001b[1;33m(\u001b[0m\u001b[0mdict1\u001b[0m\u001b[1;33m)\u001b[0m        \u001b[1;31m# delete entire dictionary\u001b[0m\u001b[1;33m\u001b[0m\u001b[1;33m\u001b[0m\u001b[0m\n\u001b[1;32m----> 2\u001b[1;33m \u001b[0mdict1\u001b[0m\u001b[1;33m\u001b[0m\u001b[1;33m\u001b[0m\u001b[0m\n\u001b[0m",
            "\u001b[1;31mNameError\u001b[0m: name 'dict1' is not defined"
          ]
        }
      ]
    },
    {
      "cell_type": "code",
      "metadata": {
        "id": "7bJhBkht2wgK"
      },
      "source": [
        "d = dict()"
      ],
      "execution_count": null,
      "outputs": []
    },
    {
      "cell_type": "code",
      "metadata": {
        "id": "jX50BAJs2wgL",
        "outputId": "d856c749-f0ce-4005-b31c-b82e38f4a6b5"
      },
      "source": [
        "dir(d)"
      ],
      "execution_count": null,
      "outputs": [
        {
          "output_type": "execute_result",
          "data": {
            "text/plain": [
              "['__class__',\n",
              " '__contains__',\n",
              " '__delattr__',\n",
              " '__delitem__',\n",
              " '__dir__',\n",
              " '__doc__',\n",
              " '__eq__',\n",
              " '__format__',\n",
              " '__ge__',\n",
              " '__getattribute__',\n",
              " '__getitem__',\n",
              " '__gt__',\n",
              " '__hash__',\n",
              " '__init__',\n",
              " '__init_subclass__',\n",
              " '__iter__',\n",
              " '__le__',\n",
              " '__len__',\n",
              " '__lt__',\n",
              " '__ne__',\n",
              " '__new__',\n",
              " '__reduce__',\n",
              " '__reduce_ex__',\n",
              " '__repr__',\n",
              " '__reversed__',\n",
              " '__setattr__',\n",
              " '__setitem__',\n",
              " '__sizeof__',\n",
              " '__str__',\n",
              " '__subclasshook__',\n",
              " 'clear',\n",
              " 'copy',\n",
              " 'fromkeys',\n",
              " 'get',\n",
              " 'items',\n",
              " 'keys',\n",
              " 'pop',\n",
              " 'popitem',\n",
              " 'setdefault',\n",
              " 'update',\n",
              " 'values']"
            ]
          },
          "metadata": {
            "tags": []
          },
          "execution_count": 8
        }
      ]
    },
    {
      "cell_type": "code",
      "metadata": {
        "id": "BS1ii3FG2wgL"
      },
      "source": [
        ""
      ],
      "execution_count": null,
      "outputs": []
    }
  ]
}